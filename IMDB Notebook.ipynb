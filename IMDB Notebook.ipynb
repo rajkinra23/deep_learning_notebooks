{
 "cells": [
  {
   "cell_type": "code",
   "execution_count": 23,
   "metadata": {},
   "outputs": [],
   "source": [
    "# Import the dataset.\n",
    "\n",
    "from keras.datasets import imdb\n",
    "\n",
    "(X_train, y_train), (X_test, y_test) = imdb.load_data(num_words=10000)"
   ]
  },
  {
   "cell_type": "code",
   "execution_count": 24,
   "metadata": {},
   "outputs": [],
   "source": [
    "# Build lookup and reverse lookup\n",
    "\n",
    "lookup = imdb.get_word_index()\n",
    "reverse_lookup = {}\n",
    "for word in lookup:\n",
    "    index = lookup[word]\n",
    "    reverse_lookup[index] = word\n",
    "review_lookup = {0: 'Negative review',\n",
    "                 1: 'Positive review'}\n"
   ]
  },
  {
   "cell_type": "code",
   "execution_count": 25,
   "metadata": {},
   "outputs": [
    {
     "name": "stdout",
     "output_type": "stream",
     "text": [
      "25000\n",
      "25000\n",
      "25000\n",
      "25000\n",
      "Positive review\n",
      "? this film was just brilliant casting location scenery story direction everyone's really suited the part they played and you could just imagine being there robert ? is an amazing actor and now the same being director ? father came from the same scottish island as myself so i loved the fact there was a real connection with this film the witty remarks throughout the film were great it was just brilliant so much that i bought the film as soon as it was released for ? and would recommend it to everyone to watch and the fly fishing was amazing really cried at the end it was so sad and you know what they say if you cry at a film it must have been good and this definitely was also ? to the two little boy's that played the ? of norman and paul they were just brilliant children are often left out of the ? list i think because the stars that play them all grown up are such a big profile for the whole film but these children are amazing and should be praised for what they have done don't you think the whole story was so lovely because it was true and was someone's life after all that was shared with us all\n"
     ]
    }
   ],
   "source": [
    "print(len(X_train))\n",
    "print(len(y_train))\n",
    "print(len(X_test))\n",
    "print(len(y_test))\n",
    "\n",
    "# Grab a sample training and test example.\n",
    "sample_train, sample_test = X_train[0], y_train[0]\n",
    "\n",
    "# Translate this review to english.\n",
    "print(review_lookup[sample_test])\n",
    "words = []\n",
    "for index in sample_train:\n",
    "    words.append(reverse_lookup.get(index - 3, '?'))\n",
    "print(' '.join(words))"
   ]
  },
  {
   "cell_type": "code",
   "execution_count": 29,
   "metadata": {},
   "outputs": [
    {
     "name": "stdout",
     "output_type": "stream",
     "text": [
      "[[0. 1. 1. ... 0. 0. 0.]\n",
      " [0. 1. 1. ... 0. 0. 0.]\n",
      " [0. 1. 1. ... 0. 0. 0.]\n",
      " ...\n",
      " [0. 1. 1. ... 0. 0. 0.]\n",
      " [0. 1. 1. ... 0. 0. 0.]\n",
      " [0. 1. 1. ... 0. 0. 0.]]\n"
     ]
    },
    {
     "ename": "IndexError",
     "evalue": "arrays used as indices must be of integer (or boolean) type",
     "output_type": "error",
     "traceback": [
      "\u001b[1;31m---------------------------------------------------------------------------\u001b[0m",
      "\u001b[1;31mIndexError\u001b[0m                                Traceback (most recent call last)",
      "\u001b[1;32m<ipython-input-29-6c4e63913126>\u001b[0m in \u001b[0;36m<module>\u001b[1;34m()\u001b[0m\n\u001b[0;32m     13\u001b[0m     \u001b[1;32mreturn\u001b[0m \u001b[0mtensor\u001b[0m\u001b[1;33m\u001b[0m\u001b[0m\n\u001b[0;32m     14\u001b[0m \u001b[1;33m\u001b[0m\u001b[0m\n\u001b[1;32m---> 15\u001b[1;33m \u001b[0mX_train\u001b[0m \u001b[1;33m=\u001b[0m \u001b[0mvectorize_input\u001b[0m\u001b[1;33m(\u001b[0m\u001b[0mX_train\u001b[0m\u001b[1;33m)\u001b[0m\u001b[1;33m\u001b[0m\u001b[0m\n\u001b[0m\u001b[0;32m     16\u001b[0m \u001b[0mX_test\u001b[0m \u001b[1;33m=\u001b[0m \u001b[0mvectorize_input\u001b[0m\u001b[1;33m(\u001b[0m\u001b[0mX_test\u001b[0m\u001b[1;33m)\u001b[0m\u001b[1;33m\u001b[0m\u001b[0m\n",
      "\u001b[1;32m<ipython-input-29-6c4e63913126>\u001b[0m in \u001b[0;36mvectorize_input\u001b[1;34m(X)\u001b[0m\n\u001b[0;32m     10\u001b[0m     \u001b[0mtensor\u001b[0m \u001b[1;33m=\u001b[0m \u001b[0mnp\u001b[0m\u001b[1;33m.\u001b[0m\u001b[0mzeros\u001b[0m\u001b[1;33m(\u001b[0m\u001b[1;33m(\u001b[0m\u001b[0mlen\u001b[0m\u001b[1;33m(\u001b[0m\u001b[0mX\u001b[0m\u001b[1;33m)\u001b[0m\u001b[1;33m,\u001b[0m \u001b[0mCORPUS\u001b[0m\u001b[1;33m)\u001b[0m\u001b[1;33m)\u001b[0m\u001b[1;33m\u001b[0m\u001b[0m\n\u001b[0;32m     11\u001b[0m     \u001b[1;32mfor\u001b[0m \u001b[0mindex\u001b[0m\u001b[1;33m,\u001b[0m \u001b[0msequence\u001b[0m \u001b[1;32min\u001b[0m \u001b[0menumerate\u001b[0m\u001b[1;33m(\u001b[0m\u001b[0mX\u001b[0m\u001b[1;33m)\u001b[0m\u001b[1;33m:\u001b[0m\u001b[1;33m\u001b[0m\u001b[0m\n\u001b[1;32m---> 12\u001b[1;33m         \u001b[0mtensor\u001b[0m\u001b[1;33m[\u001b[0m\u001b[0mindex\u001b[0m\u001b[1;33m,\u001b[0m \u001b[0msequence\u001b[0m\u001b[1;33m]\u001b[0m \u001b[1;33m=\u001b[0m \u001b[1;36m1\u001b[0m\u001b[1;33m\u001b[0m\u001b[0m\n\u001b[0m\u001b[0;32m     13\u001b[0m     \u001b[1;32mreturn\u001b[0m \u001b[0mtensor\u001b[0m\u001b[1;33m\u001b[0m\u001b[0m\n\u001b[0;32m     14\u001b[0m \u001b[1;33m\u001b[0m\u001b[0m\n",
      "\u001b[1;31mIndexError\u001b[0m: arrays used as indices must be of integer (or boolean) type"
     ]
    }
   ],
   "source": [
    "# Write a utility method to one-hot encode our word tensor.\n",
    "import numpy as np\n",
    "\n",
    "SIZE = len(lookup)\n",
    "CORPUS = 10000\n",
    "        \n",
    "def vectorize_input(X):\n",
    "    tensor = np.zeros((len(X), CORPUS))\n",
    "    for index, sequence in enumerate(X):\n",
    "        tensor[index, sequence] = 1\n",
    "    return tensor\n",
    "\n",
    "X_train = vectorize_input(X_train)\n",
    "X_test = vectorize_input(X_test)"
   ]
  },
  {
   "cell_type": "code",
   "execution_count": 31,
   "metadata": {},
   "outputs": [],
   "source": [
    "# Make sure we've vectorized our operations properly. Write a quick\n",
    "# utility function to decode a one hot tensor\n",
    "def decode_onehot(tensor):\n",
    "    sequence = []\n",
    "    for index, value in enumerate(tensor):     \n",
    "        if value == 1:\n",
    "            sequence.append(reverse_lookup.get(index - 3, '?'))\n",
    "    return ' '.join(sequence)"
   ]
  },
  {
   "cell_type": "code",
   "execution_count": 18,
   "metadata": {},
   "outputs": [
    {
     "name": "stdout",
     "output_type": "stream",
     "text": [
      "_________________________________________________________________\n",
      "Layer (type)                 Output Shape              Param #   \n",
      "=================================================================\n",
      "dense_14 (Dense)             (None, 5000)              50005000  \n",
      "_________________________________________________________________\n",
      "dense_15 (Dense)             (None, 2500)              12502500  \n",
      "_________________________________________________________________\n",
      "dense_16 (Dense)             (None, 1000)              2501000   \n",
      "_________________________________________________________________\n",
      "dense_17 (Dense)             (None, 500)               500500    \n",
      "_________________________________________________________________\n",
      "dense_18 (Dense)             (None, 100)               50100     \n",
      "_________________________________________________________________\n",
      "dense_19 (Dense)             (None, 1)                 101       \n",
      "=================================================================\n",
      "Total params: 65,559,201\n",
      "Trainable params: 65,559,201\n",
      "Non-trainable params: 0\n",
      "_________________________________________________________________\n"
     ]
    }
   ],
   "source": [
    "\"\"\"\n",
    "Build our model. Since our input is a 10,000 length vector of all the words, \n",
    "our input should be that. We can add several dense layers to capture higher\n",
    "level features of groups of words, with the final output being a sigmoid \n",
    "on 0/1 for positive/negative.\n",
    "\n",
    "We'll use rectilinear activation for hidden units.\n",
    "\n",
    "First layer - 10000 Nodes.\n",
    "Second layer - 5000\n",
    "Third layer - 2500\n",
    "Fourth layer - 1000\n",
    "Fifth layer - 500\n",
    "Sixth layer - 100\n",
    "Seventh layer - 1\n",
    "\"\"\"\n",
    "from keras.layers import Dense\n",
    "from keras.models import Sequential\n",
    "\n",
    "# Declare hidden layer sizes.\n",
    "HIDDEN_LAYER_SIZES = (10000, 5000, 2500, 1000, 500, 100)\n",
    "\n",
    "# Initialize a model.\n",
    "model = Sequential()\n",
    "\n",
    "# Add the layers.\n",
    "for i in range(len(HIDDEN_LAYER_SIZES) - 1):\n",
    "    input_size = HIDDEN_LAYER_SIZES[i]\n",
    "    output_size = HIDDEN_LAYER_SIZES[i+1]\n",
    "    model.add(Dense(output_size, input_dim=input_size, activation='relu'))\n",
    "    \n",
    "# Add the output layer.\n",
    "model.add(Dense(1, activation='sigmoid'))\n",
    "\n",
    "# Print the summary.\n",
    "model.summary()\n",
    "\n",
    "# Compile the model.\n",
    "model.compile(optimizer='rmsprop',\n",
    "              loss='binary_crossentropy',\n",
    "              metrics=['accuracy'])"
   ]
  },
  {
   "cell_type": "code",
   "execution_count": 36,
   "metadata": {
    "scrolled": true
   },
   "outputs": [
    {
     "name": "stdout",
     "output_type": "stream",
     "text": [
      "Train on 20000 samples, validate on 5000 samples\n",
      "Epoch 1/10\n",
      "20000/20000 [==============================] - 17s 849us/step - loss: 0.0170 - acc: 0.9976 - val_loss: 1.3709 - val_acc: 0.8840\n",
      "Epoch 2/10\n",
      "20000/20000 [==============================] - 16s 815us/step - loss: 0.0032 - acc: 0.9998 - val_loss: 1.5885 - val_acc: 0.8850\n",
      "Epoch 3/10\n",
      "20000/20000 [==============================] - 17s 834us/step - loss: 0.0076 - acc: 0.9991 - val_loss: 1.3321 - val_acc: 0.8812\n",
      "Epoch 4/10\n",
      "20000/20000 [==============================] - 17s 833us/step - loss: 0.0077 - acc: 0.9991 - val_loss: 1.2776 - val_acc: 0.8800\n",
      "Epoch 5/10\n",
      "20000/20000 [==============================] - 18s 902us/step - loss: 0.0036 - acc: 0.9997 - val_loss: 1.6351 - val_acc: 0.8816\n",
      "Epoch 6/10\n",
      "20000/20000 [==============================] - 16s 783us/step - loss: 0.0024 - acc: 0.9999 - val_loss: 1.7518 - val_acc: 0.8778\n",
      "Epoch 7/10\n",
      "20000/20000 [==============================] - 17s 831us/step - loss: 0.0024 - acc: 0.9999 - val_loss: 1.7518 - val_acc: 0.8778\n",
      "Epoch 8/10\n",
      "20000/20000 [==============================] - 18s 881us/step - loss: 0.0024 - acc: 0.9999 - val_loss: 1.7518 - val_acc: 0.8778\n",
      "Epoch 9/10\n",
      "20000/20000 [==============================] - 19s 940us/step - loss: 0.0024 - acc: 0.9999 - val_loss: 1.7518 - val_acc: 0.8778\n",
      "Epoch 10/10\n",
      "20000/20000 [==============================] - 18s 909us/step - loss: 0.0024 - acc: 0.9999 - val_loss: 1.7518 - val_acc: 0.8778\n"
     ]
    }
   ],
   "source": [
    "# Train the model\n",
    "progress = model.fit(x=X_train, y=y_train, validation_split=0.2, epochs=10, batch_size=128)"
   ]
  },
  {
   "cell_type": "code",
   "execution_count": 43,
   "metadata": {},
   "outputs": [
    {
     "data": {
      "text/plain": [
       "[<matplotlib.lines.Line2D at 0x296a116c940>]"
      ]
     },
     "execution_count": 43,
     "metadata": {},
     "output_type": "execute_result"
    },
    {
     "data": {
      "image/png": "[encoded data removed]",
      "text/plain": [
       "<Figure size 432x288 with 1 Axes>"
      ]
     },
     "metadata": {},
     "output_type": "display_data"
    }
   ],
   "source": [
    "# Log some of the training history, test/validation accuracy.\n",
    "\n",
    "import matplotlib.pyplot as plt\n",
    "\n",
    "# Get the history\n",
    "history = progress.history\n",
    "\n",
    "# Unpack some values of interest.\n",
    "loss = history['val_loss']\n",
    "val_accuracy = history['val_acc']\n",
    "training_accuracy = history['acc']\n",
    "\n",
    "# Plot some of our unpacked historical values.\n",
    "plt.plot(val_accuracy)\n",
    "plt.plot(training_accuracy)\n"
   ]
  },
  {
   "cell_type": "code",
   "execution_count": null,
   "metadata": {},
   "outputs": [],
   "source": []
  }
 ],
 "metadata": {
  "kernelspec": {
   "display_name": "Python 3",
   "language": "python",
   "name": "python3"
  },
  "language_info": {
   "codemirror_mode": {
    "name": "ipython",
    "version": 3
   },
   "file_extension": ".py",
   "mimetype": "text/x-python",
   "name": "python",
   "nbconvert_exporter": "python",
   "pygments_lexer": "ipython3",
   "version": "3.6.4"
  }
 },
 "nbformat": 4,
 "nbformat_minor": 2
}
